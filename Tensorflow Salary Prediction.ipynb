{
 "cells": [
  {
   "cell_type": "code",
   "execution_count": 1,
   "metadata": {},
   "outputs": [],
   "source": [
    "import pandas as pd"
   ]
  },
  {
   "cell_type": "code",
   "execution_count": 207,
   "metadata": {},
   "outputs": [],
   "source": [
    "data=pd.read_csv('Salary_data.csv')"
   ]
  },
  {
   "cell_type": "code",
   "execution_count": 208,
   "metadata": {},
   "outputs": [
    {
     "data": {
      "text/html": [
       "<div>\n",
       "<style scoped>\n",
       "    .dataframe tbody tr th:only-of-type {\n",
       "        vertical-align: middle;\n",
       "    }\n",
       "\n",
       "    .dataframe tbody tr th {\n",
       "        vertical-align: top;\n",
       "    }\n",
       "\n",
       "    .dataframe thead th {\n",
       "        text-align: right;\n",
       "    }\n",
       "</style>\n",
       "<table border=\"1\" class=\"dataframe\">\n",
       "  <thead>\n",
       "    <tr style=\"text-align: right;\">\n",
       "      <th></th>\n",
       "      <th>age</th>\n",
       "      <th>workclass</th>\n",
       "      <th>education</th>\n",
       "      <th>education_num</th>\n",
       "      <th>marital_status</th>\n",
       "      <th>occupation</th>\n",
       "      <th>relationship</th>\n",
       "      <th>race</th>\n",
       "      <th>gender</th>\n",
       "      <th>capital_gain</th>\n",
       "      <th>capital_loss</th>\n",
       "      <th>hours_per_week</th>\n",
       "      <th>native_country</th>\n",
       "      <th>income_bracket</th>\n",
       "    </tr>\n",
       "  </thead>\n",
       "  <tbody>\n",
       "    <tr>\n",
       "      <td>0</td>\n",
       "      <td>39</td>\n",
       "      <td>State-gov</td>\n",
       "      <td>Bachelors</td>\n",
       "      <td>13</td>\n",
       "      <td>Never-married</td>\n",
       "      <td>Adm-clerical</td>\n",
       "      <td>Not-in-family</td>\n",
       "      <td>White</td>\n",
       "      <td>Male</td>\n",
       "      <td>2174</td>\n",
       "      <td>0</td>\n",
       "      <td>40</td>\n",
       "      <td>United-States</td>\n",
       "      <td>&lt;=50K</td>\n",
       "    </tr>\n",
       "    <tr>\n",
       "      <td>1</td>\n",
       "      <td>50</td>\n",
       "      <td>Self-emp-not-inc</td>\n",
       "      <td>Bachelors</td>\n",
       "      <td>13</td>\n",
       "      <td>Married-civ-spouse</td>\n",
       "      <td>Exec-managerial</td>\n",
       "      <td>Husband</td>\n",
       "      <td>White</td>\n",
       "      <td>Male</td>\n",
       "      <td>0</td>\n",
       "      <td>0</td>\n",
       "      <td>13</td>\n",
       "      <td>United-States</td>\n",
       "      <td>&lt;=50K</td>\n",
       "    </tr>\n",
       "    <tr>\n",
       "      <td>2</td>\n",
       "      <td>38</td>\n",
       "      <td>Private</td>\n",
       "      <td>HS-grad</td>\n",
       "      <td>9</td>\n",
       "      <td>Divorced</td>\n",
       "      <td>Handlers-cleaners</td>\n",
       "      <td>Not-in-family</td>\n",
       "      <td>White</td>\n",
       "      <td>Male</td>\n",
       "      <td>0</td>\n",
       "      <td>0</td>\n",
       "      <td>40</td>\n",
       "      <td>United-States</td>\n",
       "      <td>&lt;=50K</td>\n",
       "    </tr>\n",
       "    <tr>\n",
       "      <td>3</td>\n",
       "      <td>53</td>\n",
       "      <td>Private</td>\n",
       "      <td>11th</td>\n",
       "      <td>7</td>\n",
       "      <td>Married-civ-spouse</td>\n",
       "      <td>Handlers-cleaners</td>\n",
       "      <td>Husband</td>\n",
       "      <td>Black</td>\n",
       "      <td>Male</td>\n",
       "      <td>0</td>\n",
       "      <td>0</td>\n",
       "      <td>40</td>\n",
       "      <td>United-States</td>\n",
       "      <td>&lt;=50K</td>\n",
       "    </tr>\n",
       "    <tr>\n",
       "      <td>4</td>\n",
       "      <td>28</td>\n",
       "      <td>Private</td>\n",
       "      <td>Bachelors</td>\n",
       "      <td>13</td>\n",
       "      <td>Married-civ-spouse</td>\n",
       "      <td>Prof-specialty</td>\n",
       "      <td>Wife</td>\n",
       "      <td>Black</td>\n",
       "      <td>Female</td>\n",
       "      <td>0</td>\n",
       "      <td>0</td>\n",
       "      <td>40</td>\n",
       "      <td>Cuba</td>\n",
       "      <td>&lt;=50K</td>\n",
       "    </tr>\n",
       "  </tbody>\n",
       "</table>\n",
       "</div>"
      ],
      "text/plain": [
       "   age          workclass   education  education_num       marital_status  \\\n",
       "0   39          State-gov   Bachelors             13        Never-married   \n",
       "1   50   Self-emp-not-inc   Bachelors             13   Married-civ-spouse   \n",
       "2   38            Private     HS-grad              9             Divorced   \n",
       "3   53            Private        11th              7   Married-civ-spouse   \n",
       "4   28            Private   Bachelors             13   Married-civ-spouse   \n",
       "\n",
       "           occupation    relationship    race   gender  capital_gain  \\\n",
       "0        Adm-clerical   Not-in-family   White     Male          2174   \n",
       "1     Exec-managerial         Husband   White     Male             0   \n",
       "2   Handlers-cleaners   Not-in-family   White     Male             0   \n",
       "3   Handlers-cleaners         Husband   Black     Male             0   \n",
       "4      Prof-specialty            Wife   Black   Female             0   \n",
       "\n",
       "   capital_loss  hours_per_week  native_country income_bracket  \n",
       "0             0              40   United-States          <=50K  \n",
       "1             0              13   United-States          <=50K  \n",
       "2             0              40   United-States          <=50K  \n",
       "3             0              40   United-States          <=50K  \n",
       "4             0              40            Cuba          <=50K  "
      ]
     },
     "execution_count": 208,
     "metadata": {},
     "output_type": "execute_result"
    }
   ],
   "source": [
    "data.head()"
   ]
  },
  {
   "cell_type": "code",
   "execution_count": 213,
   "metadata": {},
   "outputs": [
    {
     "data": {
      "text/plain": [
       "array([0, 1], dtype=int64)"
      ]
     },
     "execution_count": 213,
     "metadata": {},
     "output_type": "execute_result"
    }
   ],
   "source": [
    "data['income_bracket'].unique()"
   ]
  },
  {
   "cell_type": "code",
   "execution_count": 210,
   "metadata": {},
   "outputs": [],
   "source": [
    "def labelfix(label):\n",
    "    if label==' <=50K':\n",
    "        return 0\n",
    "    else:\n",
    "        return 1"
   ]
  },
  {
   "cell_type": "code",
   "execution_count": 211,
   "metadata": {},
   "outputs": [],
   "source": [
    "data['income_bracket']=data['income_bracket'].apply(labelfix)"
   ]
  },
  {
   "cell_type": "code",
   "execution_count": 212,
   "metadata": {},
   "outputs": [
    {
     "data": {
      "text/html": [
       "<div>\n",
       "<style scoped>\n",
       "    .dataframe tbody tr th:only-of-type {\n",
       "        vertical-align: middle;\n",
       "    }\n",
       "\n",
       "    .dataframe tbody tr th {\n",
       "        vertical-align: top;\n",
       "    }\n",
       "\n",
       "    .dataframe thead th {\n",
       "        text-align: right;\n",
       "    }\n",
       "</style>\n",
       "<table border=\"1\" class=\"dataframe\">\n",
       "  <thead>\n",
       "    <tr style=\"text-align: right;\">\n",
       "      <th></th>\n",
       "      <th>age</th>\n",
       "      <th>workclass</th>\n",
       "      <th>education</th>\n",
       "      <th>education_num</th>\n",
       "      <th>marital_status</th>\n",
       "      <th>occupation</th>\n",
       "      <th>relationship</th>\n",
       "      <th>race</th>\n",
       "      <th>gender</th>\n",
       "      <th>capital_gain</th>\n",
       "      <th>capital_loss</th>\n",
       "      <th>hours_per_week</th>\n",
       "      <th>native_country</th>\n",
       "      <th>income_bracket</th>\n",
       "    </tr>\n",
       "  </thead>\n",
       "  <tbody>\n",
       "    <tr>\n",
       "      <td>0</td>\n",
       "      <td>39</td>\n",
       "      <td>State-gov</td>\n",
       "      <td>Bachelors</td>\n",
       "      <td>13</td>\n",
       "      <td>Never-married</td>\n",
       "      <td>Adm-clerical</td>\n",
       "      <td>Not-in-family</td>\n",
       "      <td>White</td>\n",
       "      <td>Male</td>\n",
       "      <td>2174</td>\n",
       "      <td>0</td>\n",
       "      <td>40</td>\n",
       "      <td>United-States</td>\n",
       "      <td>0</td>\n",
       "    </tr>\n",
       "    <tr>\n",
       "      <td>1</td>\n",
       "      <td>50</td>\n",
       "      <td>Self-emp-not-inc</td>\n",
       "      <td>Bachelors</td>\n",
       "      <td>13</td>\n",
       "      <td>Married-civ-spouse</td>\n",
       "      <td>Exec-managerial</td>\n",
       "      <td>Husband</td>\n",
       "      <td>White</td>\n",
       "      <td>Male</td>\n",
       "      <td>0</td>\n",
       "      <td>0</td>\n",
       "      <td>13</td>\n",
       "      <td>United-States</td>\n",
       "      <td>0</td>\n",
       "    </tr>\n",
       "    <tr>\n",
       "      <td>2</td>\n",
       "      <td>38</td>\n",
       "      <td>Private</td>\n",
       "      <td>HS-grad</td>\n",
       "      <td>9</td>\n",
       "      <td>Divorced</td>\n",
       "      <td>Handlers-cleaners</td>\n",
       "      <td>Not-in-family</td>\n",
       "      <td>White</td>\n",
       "      <td>Male</td>\n",
       "      <td>0</td>\n",
       "      <td>0</td>\n",
       "      <td>40</td>\n",
       "      <td>United-States</td>\n",
       "      <td>0</td>\n",
       "    </tr>\n",
       "    <tr>\n",
       "      <td>3</td>\n",
       "      <td>53</td>\n",
       "      <td>Private</td>\n",
       "      <td>11th</td>\n",
       "      <td>7</td>\n",
       "      <td>Married-civ-spouse</td>\n",
       "      <td>Handlers-cleaners</td>\n",
       "      <td>Husband</td>\n",
       "      <td>Black</td>\n",
       "      <td>Male</td>\n",
       "      <td>0</td>\n",
       "      <td>0</td>\n",
       "      <td>40</td>\n",
       "      <td>United-States</td>\n",
       "      <td>0</td>\n",
       "    </tr>\n",
       "    <tr>\n",
       "      <td>4</td>\n",
       "      <td>28</td>\n",
       "      <td>Private</td>\n",
       "      <td>Bachelors</td>\n",
       "      <td>13</td>\n",
       "      <td>Married-civ-spouse</td>\n",
       "      <td>Prof-specialty</td>\n",
       "      <td>Wife</td>\n",
       "      <td>Black</td>\n",
       "      <td>Female</td>\n",
       "      <td>0</td>\n",
       "      <td>0</td>\n",
       "      <td>40</td>\n",
       "      <td>Cuba</td>\n",
       "      <td>0</td>\n",
       "    </tr>\n",
       "  </tbody>\n",
       "</table>\n",
       "</div>"
      ],
      "text/plain": [
       "   age          workclass   education  education_num       marital_status  \\\n",
       "0   39          State-gov   Bachelors             13        Never-married   \n",
       "1   50   Self-emp-not-inc   Bachelors             13   Married-civ-spouse   \n",
       "2   38            Private     HS-grad              9             Divorced   \n",
       "3   53            Private        11th              7   Married-civ-spouse   \n",
       "4   28            Private   Bachelors             13   Married-civ-spouse   \n",
       "\n",
       "           occupation    relationship    race   gender  capital_gain  \\\n",
       "0        Adm-clerical   Not-in-family   White     Male          2174   \n",
       "1     Exec-managerial         Husband   White     Male             0   \n",
       "2   Handlers-cleaners   Not-in-family   White     Male             0   \n",
       "3   Handlers-cleaners         Husband   Black     Male             0   \n",
       "4      Prof-specialty            Wife   Black   Female             0   \n",
       "\n",
       "   capital_loss  hours_per_week  native_country  income_bracket  \n",
       "0             0              40   United-States               0  \n",
       "1             0              13   United-States               0  \n",
       "2             0              40   United-States               0  \n",
       "3             0              40   United-States               0  \n",
       "4             0              40            Cuba               0  "
      ]
     },
     "execution_count": 212,
     "metadata": {},
     "output_type": "execute_result"
    }
   ],
   "source": [
    "data.head()"
   ]
  },
  {
   "cell_type": "code",
   "execution_count": 214,
   "metadata": {},
   "outputs": [],
   "source": [
    "from sklearn.model_selection import train_test_split"
   ]
  },
  {
   "cell_type": "code",
   "execution_count": 215,
   "metadata": {},
   "outputs": [],
   "source": [
    "xdata=data.drop('income_bracket',axis=1)"
   ]
  },
  {
   "cell_type": "code",
   "execution_count": 216,
   "metadata": {},
   "outputs": [],
   "source": [
    "ydata=data['income_bracket']"
   ]
  },
  {
   "cell_type": "code",
   "execution_count": 217,
   "metadata": {},
   "outputs": [],
   "source": [
    "xtrain,xtest,ytrain,ytest=train_test_split(xdata,ydata,test_size=0.3,random_state=0)"
   ]
  },
  {
   "cell_type": "code",
   "execution_count": 218,
   "metadata": {},
   "outputs": [
    {
     "data": {
      "text/plain": [
       "32098    1\n",
       "25206    0\n",
       "23491    1\n",
       "12367    0\n",
       "7054     0\n",
       "Name: income_bracket, dtype: int64"
      ]
     },
     "execution_count": 218,
     "metadata": {},
     "output_type": "execute_result"
    }
   ],
   "source": [
    "ytrain.head()"
   ]
  },
  {
   "cell_type": "code",
   "execution_count": 219,
   "metadata": {},
   "outputs": [
    {
     "data": {
      "text/plain": [
       "Index(['age', 'workclass', 'education', 'education_num', 'marital_status',\n",
       "       'occupation', 'relationship', 'race', 'gender', 'capital_gain',\n",
       "       'capital_loss', 'hours_per_week', 'native_country', 'income_bracket'],\n",
       "      dtype='object')"
      ]
     },
     "execution_count": 219,
     "metadata": {},
     "output_type": "execute_result"
    }
   ],
   "source": [
    "data.columns"
   ]
  },
  {
   "cell_type": "code",
   "execution_count": 220,
   "metadata": {},
   "outputs": [],
   "source": [
    "import tensorflow as tf"
   ]
  },
  {
   "cell_type": "code",
   "execution_count": 221,
   "metadata": {},
   "outputs": [],
   "source": [
    "gender=tf.feature_column.categorical_column_with_vocabulary_list(\"gender\",[\"Female\",\"Male\"])"
   ]
  },
  {
   "cell_type": "code",
   "execution_count": 222,
   "metadata": {},
   "outputs": [],
   "source": [
    "occupation=tf.feature_column.categorical_column_with_hash_bucket(\"occupation\",hash_bucket_size=1000)"
   ]
  },
  {
   "cell_type": "code",
   "execution_count": 223,
   "metadata": {},
   "outputs": [],
   "source": [
    "marital_status=tf.feature_column.categorical_column_with_hash_bucket(\"marital_status\",hash_bucket_size=1000)"
   ]
  },
  {
   "cell_type": "code",
   "execution_count": 224,
   "metadata": {},
   "outputs": [],
   "source": [
    "relationship=tf.feature_column.categorical_column_with_hash_bucket(\"relationship\",hash_bucket_size=1000)\n",
    "education=tf.feature_column.categorical_column_with_hash_bucket(\"education\",hash_bucket_size=1000)\n",
    "workclass=tf.feature_column.categorical_column_with_hash_bucket(\"workclass\",hash_bucket_size=1000)\n",
    "nativecountry=tf.feature_column.categorical_column_with_hash_bucket(\"native_country\",hash_bucket_size=1000)"
   ]
  },
  {
   "cell_type": "code",
   "execution_count": 225,
   "metadata": {},
   "outputs": [],
   "source": [
    "age=tf.feature_column.numeric_column(\"age\")\n",
    "educationnum=tf.feature_column.numeric_column(\"education_num\")\n",
    "capitalgain=tf.feature_column.numeric_column(\"capital_gain\")\n",
    "capitalloss=tf.feature_column.numeric_column(\"capital_loss\")\n",
    "hrsperweek=tf.feature_column.numeric_column(\"hours_per_week\")"
   ]
  },
  {
   "cell_type": "code",
   "execution_count": 226,
   "metadata": {},
   "outputs": [],
   "source": [
    "featcols=[gender,occupation,relationship,marital_status,education,workclass,nativecountry,age,educationnum,capitalgain,capitalloss,hrsperweek]"
   ]
  },
  {
   "cell_type": "code",
   "execution_count": 227,
   "metadata": {},
   "outputs": [],
   "source": [
    "inputfunc=tf.estimator.inputs.pandas_input_fn(x=xtrain,y=ytrain,batch_size=100,num_epochs=None,shuffle=True)"
   ]
  },
  {
   "cell_type": "code",
   "execution_count": 228,
   "metadata": {},
   "outputs": [
    {
     "name": "stdout",
     "output_type": "stream",
     "text": [
      "INFO:tensorflow:Using default config.\n",
      "WARNING:tensorflow:Using temporary folder as model directory: C:\\Users\\Hp\\AppData\\Local\\Temp\\tmpa0ocr6va\n",
      "INFO:tensorflow:Using config: {'_model_dir': 'C:\\\\Users\\\\Hp\\\\AppData\\\\Local\\\\Temp\\\\tmpa0ocr6va', '_tf_random_seed': None, '_save_summary_steps': 100, '_save_checkpoints_steps': None, '_save_checkpoints_secs': 600, '_session_config': allow_soft_placement: true\n",
      "graph_options {\n",
      "  rewrite_options {\n",
      "    meta_optimizer_iterations: ONE\n",
      "  }\n",
      "}\n",
      ", '_keep_checkpoint_max': 5, '_keep_checkpoint_every_n_hours': 10000, '_log_step_count_steps': 100, '_train_distribute': None, '_device_fn': None, '_protocol': None, '_eval_distribute': None, '_experimental_distribute': None, '_experimental_max_worker_delay_secs': None, '_session_creation_timeout_secs': 7200, '_service': None, '_cluster_spec': <tensorflow.python.training.server_lib.ClusterSpec object at 0x0000016627F9A978>, '_task_type': 'worker', '_task_id': 0, '_global_id_in_cluster': 0, '_master': '', '_evaluation_master': '', '_is_chief': True, '_num_ps_replicas': 0, '_num_worker_replicas': 1}\n"
     ]
    }
   ],
   "source": [
    "model=tf.estimator.LinearClassifier(feature_columns=featcols)"
   ]
  },
  {
   "cell_type": "code",
   "execution_count": 229,
   "metadata": {},
   "outputs": [
    {
     "name": "stdout",
     "output_type": "stream",
     "text": [
      "INFO:tensorflow:Calling model_fn.\n",
      "INFO:tensorflow:Done calling model_fn.\n",
      "INFO:tensorflow:Create CheckpointSaverHook.\n",
      "INFO:tensorflow:Graph was finalized.\n",
      "INFO:tensorflow:Running local_init_op.\n",
      "INFO:tensorflow:Done running local_init_op.\n",
      "INFO:tensorflow:Saving checkpoints for 0 into C:\\Users\\Hp\\AppData\\Local\\Temp\\tmpa0ocr6va\\model.ckpt.\n",
      "INFO:tensorflow:loss = 69.31472, step = 1\n",
      "INFO:tensorflow:global_step/sec: 107.641\n",
      "INFO:tensorflow:loss = 713.3896, step = 101 (0.937 sec)\n",
      "INFO:tensorflow:global_step/sec: 176.686\n",
      "INFO:tensorflow:loss = 89.42039, step = 201 (0.568 sec)\n",
      "INFO:tensorflow:global_step/sec: 164.099\n",
      "INFO:tensorflow:loss = 218.81902, step = 301 (0.604 sec)\n",
      "INFO:tensorflow:global_step/sec: 170.05\n",
      "INFO:tensorflow:loss = 224.5467, step = 401 (0.588 sec)\n",
      "INFO:tensorflow:global_step/sec: 175.1\n",
      "INFO:tensorflow:loss = 85.18785, step = 501 (0.572 sec)\n",
      "INFO:tensorflow:global_step/sec: 177.023\n",
      "INFO:tensorflow:loss = 144.45177, step = 601 (0.564 sec)\n",
      "INFO:tensorflow:global_step/sec: 183.33\n",
      "INFO:tensorflow:loss = 126.04554, step = 701 (0.551 sec)\n",
      "INFO:tensorflow:global_step/sec: 155.985\n",
      "INFO:tensorflow:loss = 76.07754, step = 801 (0.638 sec)\n",
      "INFO:tensorflow:global_step/sec: 171.752\n",
      "INFO:tensorflow:loss = 24.67808, step = 901 (0.589 sec)\n",
      "INFO:tensorflow:global_step/sec: 170.006\n",
      "INFO:tensorflow:loss = 29.42172, step = 1001 (0.578 sec)\n",
      "INFO:tensorflow:global_step/sec: 249.224\n",
      "INFO:tensorflow:loss = 66.24753, step = 1101 (0.400 sec)\n",
      "INFO:tensorflow:global_step/sec: 224.392\n",
      "INFO:tensorflow:loss = 294.34314, step = 1201 (0.446 sec)\n",
      "INFO:tensorflow:global_step/sec: 179.29\n",
      "INFO:tensorflow:loss = 130.02046, step = 1301 (0.556 sec)\n",
      "INFO:tensorflow:global_step/sec: 178.265\n",
      "INFO:tensorflow:loss = 78.923134, step = 1401 (0.566 sec)\n",
      "INFO:tensorflow:global_step/sec: 190.595\n",
      "INFO:tensorflow:loss = 25.696444, step = 1501 (0.521 sec)\n",
      "INFO:tensorflow:global_step/sec: 169.067\n",
      "INFO:tensorflow:loss = 85.676506, step = 1601 (0.598 sec)\n",
      "INFO:tensorflow:global_step/sec: 162.488\n",
      "INFO:tensorflow:loss = 38.209164, step = 1701 (0.619 sec)\n",
      "INFO:tensorflow:global_step/sec: 177.468\n",
      "INFO:tensorflow:loss = 30.597912, step = 1801 (0.563 sec)\n",
      "INFO:tensorflow:global_step/sec: 181.58\n",
      "INFO:tensorflow:loss = 38.38218, step = 1901 (0.543 sec)\n",
      "INFO:tensorflow:global_step/sec: 186.942\n",
      "INFO:tensorflow:loss = 29.83455, step = 2001 (0.533 sec)\n",
      "INFO:tensorflow:global_step/sec: 174.971\n",
      "INFO:tensorflow:loss = 44.575592, step = 2101 (0.579 sec)\n",
      "INFO:tensorflow:global_step/sec: 170.902\n",
      "INFO:tensorflow:loss = 66.400215, step = 2201 (0.585 sec)\n",
      "INFO:tensorflow:global_step/sec: 219.184\n",
      "INFO:tensorflow:loss = 55.179657, step = 2301 (0.452 sec)\n",
      "INFO:tensorflow:global_step/sec: 254.748\n",
      "INFO:tensorflow:loss = 39.255947, step = 2401 (0.394 sec)\n",
      "INFO:tensorflow:global_step/sec: 232.358\n",
      "INFO:tensorflow:loss = 26.125631, step = 2501 (0.423 sec)\n",
      "INFO:tensorflow:global_step/sec: 216.46\n",
      "INFO:tensorflow:loss = 26.27178, step = 2601 (0.464 sec)\n",
      "INFO:tensorflow:global_step/sec: 198.814\n",
      "INFO:tensorflow:loss = 21.908459, step = 2701 (0.509 sec)\n",
      "INFO:tensorflow:global_step/sec: 183.42\n",
      "INFO:tensorflow:loss = 118.752266, step = 2801 (0.543 sec)\n",
      "INFO:tensorflow:global_step/sec: 164.432\n",
      "INFO:tensorflow:loss = 91.84248, step = 2901 (0.614 sec)\n",
      "INFO:tensorflow:global_step/sec: 171.055\n",
      "INFO:tensorflow:loss = 37.381474, step = 3001 (0.580 sec)\n",
      "INFO:tensorflow:global_step/sec: 219.948\n",
      "INFO:tensorflow:loss = 39.862083, step = 3101 (0.454 sec)\n",
      "INFO:tensorflow:global_step/sec: 158.844\n",
      "INFO:tensorflow:loss = 26.147068, step = 3201 (0.632 sec)\n",
      "INFO:tensorflow:global_step/sec: 181.284\n",
      "INFO:tensorflow:loss = 43.73613, step = 3301 (0.552 sec)\n",
      "INFO:tensorflow:global_step/sec: 156.241\n",
      "INFO:tensorflow:loss = 24.857662, step = 3401 (0.636 sec)\n",
      "INFO:tensorflow:global_step/sec: 189.759\n",
      "INFO:tensorflow:loss = 68.48328, step = 3501 (0.531 sec)\n",
      "INFO:tensorflow:global_step/sec: 158.853\n",
      "INFO:tensorflow:loss = 65.282234, step = 3601 (0.626 sec)\n",
      "INFO:tensorflow:global_step/sec: 172.285\n",
      "INFO:tensorflow:loss = 330.97946, step = 3701 (0.582 sec)\n",
      "INFO:tensorflow:global_step/sec: 201.891\n",
      "INFO:tensorflow:loss = 32.48088, step = 3801 (0.495 sec)\n",
      "INFO:tensorflow:global_step/sec: 177.589\n",
      "INFO:tensorflow:loss = 115.197655, step = 3901 (0.559 sec)\n",
      "INFO:tensorflow:global_step/sec: 193.369\n",
      "INFO:tensorflow:loss = 22.535883, step = 4001 (0.518 sec)\n",
      "INFO:tensorflow:global_step/sec: 157.814\n",
      "INFO:tensorflow:loss = 30.163956, step = 4101 (0.638 sec)\n",
      "INFO:tensorflow:global_step/sec: 169.544\n",
      "INFO:tensorflow:loss = 48.735756, step = 4201 (0.586 sec)\n",
      "INFO:tensorflow:global_step/sec: 153.818\n",
      "INFO:tensorflow:loss = 26.563433, step = 4301 (0.649 sec)\n",
      "INFO:tensorflow:global_step/sec: 176.871\n",
      "INFO:tensorflow:loss = 53.13424, step = 4401 (0.570 sec)\n",
      "INFO:tensorflow:global_step/sec: 168.674\n",
      "INFO:tensorflow:loss = 45.8942, step = 4501 (0.588 sec)\n",
      "INFO:tensorflow:global_step/sec: 164.982\n",
      "INFO:tensorflow:loss = 31.16077, step = 4601 (0.611 sec)\n",
      "INFO:tensorflow:global_step/sec: 179.887\n",
      "INFO:tensorflow:loss = 32.494495, step = 4701 (0.560 sec)\n",
      "INFO:tensorflow:global_step/sec: 153.392\n",
      "INFO:tensorflow:loss = 46.06739, step = 4801 (0.643 sec)\n",
      "INFO:tensorflow:global_step/sec: 163.884\n",
      "INFO:tensorflow:loss = 28.401983, step = 4901 (0.611 sec)\n",
      "INFO:tensorflow:Saving checkpoints for 5000 into C:\\Users\\Hp\\AppData\\Local\\Temp\\tmpa0ocr6va\\model.ckpt.\n",
      "INFO:tensorflow:Loss for final step: 24.819416.\n"
     ]
    },
    {
     "data": {
      "text/plain": [
       "<tensorflow_estimator.python.estimator.canned.linear.LinearClassifier at 0x16627f9a400>"
      ]
     },
     "execution_count": 229,
     "metadata": {},
     "output_type": "execute_result"
    }
   ],
   "source": [
    "model.train(input_fn=inputfunc,steps=5000)"
   ]
  },
  {
   "cell_type": "code",
   "execution_count": 230,
   "metadata": {},
   "outputs": [],
   "source": [
    "predfunc=tf.estimator.inputs.pandas_input_fn(x=xtest,batch_size=len(xtest),shuffle=False)"
   ]
  },
  {
   "cell_type": "code",
   "execution_count": 231,
   "metadata": {},
   "outputs": [
    {
     "name": "stdout",
     "output_type": "stream",
     "text": [
      "INFO:tensorflow:Calling model_fn.\n",
      "INFO:tensorflow:Done calling model_fn.\n",
      "INFO:tensorflow:Graph was finalized.\n",
      "INFO:tensorflow:Restoring parameters from C:\\Users\\Hp\\AppData\\Local\\Temp\\tmpa0ocr6va\\model.ckpt-5000\n",
      "INFO:tensorflow:Running local_init_op.\n",
      "INFO:tensorflow:Done running local_init_op.\n"
     ]
    }
   ],
   "source": [
    "prediction=list(model.predict(input_fn=predfunc))"
   ]
  },
  {
   "cell_type": "code",
   "execution_count": 232,
   "metadata": {},
   "outputs": [
    {
     "data": {
      "text/plain": [
       "{'logits': array([-4.2603097], dtype=float32),\n",
       " 'logistic': array([0.01392138], dtype=float32),\n",
       " 'probabilities': array([0.98607856, 0.01392139], dtype=float32),\n",
       " 'class_ids': array([0], dtype=int64),\n",
       " 'classes': array([b'0'], dtype=object),\n",
       " 'all_class_ids': array([0, 1]),\n",
       " 'all_classes': array([b'0', b'1'], dtype=object)}"
      ]
     },
     "execution_count": 232,
     "metadata": {},
     "output_type": "execute_result"
    }
   ],
   "source": [
    "prediction[0]"
   ]
  },
  {
   "cell_type": "code",
   "execution_count": 233,
   "metadata": {},
   "outputs": [],
   "source": [
    "finalpred=[]\n",
    "for pred in prediction:\n",
    "    finalpred.append(pred['class_ids'][0])"
   ]
  },
  {
   "cell_type": "code",
   "execution_count": 234,
   "metadata": {},
   "outputs": [
    {
     "data": {
      "text/plain": [
       "[0, 0, 0, 0, 1, 0, 0, 0, 0, 0]"
      ]
     },
     "execution_count": 234,
     "metadata": {},
     "output_type": "execute_result"
    }
   ],
   "source": [
    "finalpred[:10]"
   ]
  },
  {
   "cell_type": "code",
   "execution_count": 235,
   "metadata": {},
   "outputs": [],
   "source": [
    "from sklearn.metrics import classification_report"
   ]
  },
  {
   "cell_type": "code",
   "execution_count": 236,
   "metadata": {},
   "outputs": [
    {
     "name": "stdout",
     "output_type": "stream",
     "text": [
      "              precision    recall  f1-score   support\n",
      "\n",
      "           0       0.90      0.90      0.90      7407\n",
      "           1       0.68      0.68      0.68      2362\n",
      "\n",
      "    accuracy                           0.85      9769\n",
      "   macro avg       0.79      0.79      0.79      9769\n",
      "weighted avg       0.85      0.85      0.85      9769\n",
      "\n"
     ]
    }
   ],
   "source": [
    "print(classification_report(ytest,finalpred))"
   ]
  },
  {
   "cell_type": "code",
   "execution_count": null,
   "metadata": {},
   "outputs": [],
   "source": []
  },
  {
   "cell_type": "code",
   "execution_count": null,
   "metadata": {},
   "outputs": [],
   "source": []
  },
  {
   "cell_type": "code",
   "execution_count": null,
   "metadata": {},
   "outputs": [],
   "source": []
  }
 ],
 "metadata": {
  "kernelspec": {
   "display_name": "Python 3",
   "language": "python",
   "name": "python3"
  },
  "language_info": {
   "codemirror_mode": {
    "name": "ipython",
    "version": 3
   },
   "file_extension": ".py",
   "mimetype": "text/x-python",
   "name": "python",
   "nbconvert_exporter": "python",
   "pygments_lexer": "ipython3",
   "version": "3.7.1"
  }
 },
 "nbformat": 4,
 "nbformat_minor": 2
}
